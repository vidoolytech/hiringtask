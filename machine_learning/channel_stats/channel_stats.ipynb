{
 "cells": [
  {
   "cell_type": "code",
   "execution_count": 1,
   "metadata": {
    "collapsed": true
   },
   "outputs": [],
   "source": [
    "import pandas as pd"
   ]
  },
  {
   "cell_type": "code",
   "execution_count": 2,
   "metadata": {
    "collapsed": true
   },
   "outputs": [],
   "source": [
    "df = pd.read_csv('oct_march.csv')"
   ]
  },
  {
   "cell_type": "code",
   "execution_count": 3,
   "metadata": {},
   "outputs": [
    {
     "data": {
      "text/html": [
       "<div>\n",
       "<style>\n",
       "    .dataframe thead tr:only-child th {\n",
       "        text-align: right;\n",
       "    }\n",
       "\n",
       "    .dataframe thead th {\n",
       "        text-align: left;\n",
       "    }\n",
       "\n",
       "    .dataframe tbody tr th {\n",
       "        vertical-align: top;\n",
       "    }\n",
       "</style>\n",
       "<table border=\"1\" class=\"dataframe\">\n",
       "  <thead>\n",
       "    <tr style=\"text-align: right;\">\n",
       "      <th></th>\n",
       "      <th>chid</th>\n",
       "      <th>views</th>\n",
       "      <th>subscriber</th>\n",
       "      <th>videoscount</th>\n",
       "      <th>date</th>\n",
       "    </tr>\n",
       "  </thead>\n",
       "  <tbody>\n",
       "    <tr>\n",
       "      <th>0</th>\n",
       "      <td>UC6ROKPXrnzfhNYST1w</td>\n",
       "      <td>3302429</td>\n",
       "      <td>2087</td>\n",
       "      <td>4</td>\n",
       "      <td>2016-10-01</td>\n",
       "    </tr>\n",
       "    <tr>\n",
       "      <th>1</th>\n",
       "      <td>UC6ROKPXrnzfhNYST1w</td>\n",
       "      <td>3304705</td>\n",
       "      <td>2087</td>\n",
       "      <td>4</td>\n",
       "      <td>2016-10-02</td>\n",
       "    </tr>\n",
       "    <tr>\n",
       "      <th>2</th>\n",
       "      <td>UC6ROKPXrnzfhNYST1w</td>\n",
       "      <td>3306526</td>\n",
       "      <td>2090</td>\n",
       "      <td>4</td>\n",
       "      <td>2016-10-03</td>\n",
       "    </tr>\n",
       "    <tr>\n",
       "      <th>3</th>\n",
       "      <td>UC6ROKPXrnzfhNYST1w</td>\n",
       "      <td>3309092</td>\n",
       "      <td>2090</td>\n",
       "      <td>4</td>\n",
       "      <td>2016-10-04</td>\n",
       "    </tr>\n",
       "    <tr>\n",
       "      <th>4</th>\n",
       "      <td>UC6ROKPXrnzfhNYST1w</td>\n",
       "      <td>3311343</td>\n",
       "      <td>2090</td>\n",
       "      <td>4</td>\n",
       "      <td>2016-10-05</td>\n",
       "    </tr>\n",
       "  </tbody>\n",
       "</table>\n",
       "</div>"
      ],
      "text/plain": [
       "                  chid    views  subscriber  videoscount        date\n",
       "0  UC6ROKPXrnzfhNYST1w  3302429        2087            4  2016-10-01\n",
       "1  UC6ROKPXrnzfhNYST1w  3304705        2087            4  2016-10-02\n",
       "2  UC6ROKPXrnzfhNYST1w  3306526        2090            4  2016-10-03\n",
       "3  UC6ROKPXrnzfhNYST1w  3309092        2090            4  2016-10-04\n",
       "4  UC6ROKPXrnzfhNYST1w  3311343        2090            4  2016-10-05"
      ]
     },
     "execution_count": 3,
     "metadata": {},
     "output_type": "execute_result"
    }
   ],
   "source": [
    "df.head()"
   ]
  },
  {
   "cell_type": "code",
   "execution_count": 4,
   "metadata": {},
   "outputs": [
    {
     "data": {
      "text/plain": [
       "UC6iYzKmOJO0Cs-WfCw    182\n",
       "UC6Zz6uQSz2_Wmwgcfw    182\n",
       "UC635JwgokZYS0HGyQA    182\n",
       "UC6IsogHvcPITLjkqSQ    182\n",
       "UC6flofJskgS3FUpTNQ    182\n",
       "UC6KlaVksIZ180wq70g    182\n",
       "UC6YPrSElj_8A39DIvg    182\n",
       "UC64do0QynUFrMe85Zg    182\n",
       "UC6BJlqI4WKE_x1kjDw    182\n",
       "UC6N57oJkzo4Gxqr9-g    182\n",
       "UC64vZm5SJoi37VBYnw    182\n",
       "UC6UT0RuDHyhmLURPMg    182\n",
       "UC60GHVk_6ddgqhHwcg    182\n",
       "UC6_-ciW9RQcEMA_iBA    182\n",
       "UC6aooX-l3XaEnAcujw    182\n",
       "UC6ROKPXrnzfhNYST1w    182\n",
       "UC66-HJ9-EdhxymgrcA    182\n",
       "UC6tJsYi0KhHQS089oA    182\n",
       "UC6N5nZgC-o13ydQ5zA    182\n",
       "UC6HdUHQanr_9DHmhsg    182\n",
       "UC6zwaRF75y2bghpaEA    182\n",
       "UC6cbiSDKy-hUoJTZEg    182\n",
       "UC66MdV183KKnHdvIiA    182\n",
       "UC6SjJYxfFL1_vsHPdw    182\n",
       "UC6sm5R3f_sFkQ9ujmw    182\n",
       "UC6iv_yOcmMUicwEeUw    182\n",
       "UC6JwCF-UwTQOSq-sZw    182\n",
       "UC6stWryp28Tgo8r26g    182\n",
       "UC66EUC6JjLZrg         182\n",
       "UC6lYe9Tu68H9fgvfeA    182\n",
       "                      ... \n",
       "UC6zmKdHGKMTBxHG6Hg    182\n",
       "UC6VmBL8Vn4SAjc4-uQ    182\n",
       "UC6RxqKdo26N9Whn0vw    182\n",
       "UC6l6BYM7k31gN9V0cw    182\n",
       "UC6vLMfhcTiIK0yWwxQ    182\n",
       "UC6tYn2JQgIsZ2ab2bw    182\n",
       "UC6wS--iGmGjJMfmEVA    182\n",
       "UC665w2gl6qcRGbkwNA    182\n",
       "UC6f5t2CAXGY6-ju7Ug    182\n",
       "UC6rc_27FroFOH36mVw    182\n",
       "UC6u_I_vSuBPlVj_L3Q    182\n",
       "UC6Euu_pgjztpTW082A    182\n",
       "UC6wileij7lxwqBj4sA    182\n",
       "UC6wEnFGqbj3bK485EA    182\n",
       "UC6bYLGao8Bupp0BwDA    182\n",
       "UC6ky0R6f5GXoFd2-sg    182\n",
       "UC6zLh-L0kVR6dxCYag    182\n",
       "UC6JTYOqAl0rX4UE0zA    182\n",
       "UC6R1DFp6TbjLRaBDNA    182\n",
       "UC6lg1TT-CG93KH3ZWg    182\n",
       "UC68ec3_IcK3Ymj5OPg    182\n",
       "UC6QXNO5UrCue7psmvw    182\n",
       "UC685tbaDLsOlfBVzfA    182\n",
       "UC6sjyZNr6kG3WW8CTA    182\n",
       "UC6SUIeJ5frJm3A4FJg    110\n",
       "UC6jRSvabqGqw7FwikA    103\n",
       "UC6Bv0PiBObuYcBzF2Q     40\n",
       "UC6Ds9AtRgfoGPOr6-A     39\n",
       "UC6iyxTNq8EzJ0qHirw     39\n",
       "UC6PFoeUC65WJg          19\n",
       "Name: chid, Length: 100, dtype: int64"
      ]
     },
     "execution_count": 4,
     "metadata": {},
     "output_type": "execute_result"
    }
   ],
   "source": [
    "df['chid'].value_counts()"
   ]
  },
  {
   "cell_type": "code",
   "execution_count": 5,
   "metadata": {},
   "outputs": [
    {
     "data": {
      "text/plain": [
       "chid           object\n",
       "views           int64\n",
       "subscriber      int64\n",
       "videoscount     int64\n",
       "date           object\n",
       "dtype: object"
      ]
     },
     "execution_count": 5,
     "metadata": {},
     "output_type": "execute_result"
    }
   ],
   "source": [
    "df.dtypes"
   ]
  },
  {
   "cell_type": "code",
   "execution_count": 6,
   "metadata": {},
   "outputs": [
    {
     "name": "stderr",
     "output_type": "stream",
     "text": [
      "C:\\Users\\WELCOME\\AppData\\Local\\conda\\conda\\envs\\python3\\lib\\site-packages\\statsmodels\\compat\\pandas.py:56: FutureWarning: The pandas.core.datetools module is deprecated and will be removed in a future version. Please use the pandas.tseries module instead.\n",
      "  from pandas.core import datetools\n"
     ]
    }
   ],
   "source": [
    "import datetime as datetime\n",
    "from datetime import date\n",
    "from statsmodels.tsa.arima_model import ARIMA"
   ]
  },
  {
   "cell_type": "code",
   "execution_count": 7,
   "metadata": {
    "collapsed": true
   },
   "outputs": [],
   "source": [
    "df.date = df.date.astype(date)"
   ]
  },
  {
   "cell_type": "code",
   "execution_count": 8,
   "metadata": {
    "collapsed": true
   },
   "outputs": [],
   "source": [
    "def arima_model(ts):\n",
    "    train, test = ts[0:-100], ts[-100:]\n",
    "    history = [x for x in train]\n",
    "    predictions = list()\n",
    "    for t in range(len(test)):\n",
    "        model = ARIMA(history, order=(2,1,0))\n",
    "        model_fit = model.fit(disp=-1)\n",
    "        output = model_fit.forecast()\n",
    "        yhat = output[0]\n",
    "        predictions.append(yhat)\n",
    "        obs = test[t]\n",
    "        history.append(obs)\n",
    "    error = r2_score(test, predictions)\n",
    "    print('Test MSE: %.3f' % error)\n",
    "    # plot\n",
    "    test.plot()\n",
    "    plt.plot(predictions,color='red')"
   ]
  },
  {
   "cell_type": "code",
   "execution_count": 9,
   "metadata": {},
   "outputs": [
    {
     "data": {
      "text/html": [
       "<div>\n",
       "<style>\n",
       "    .dataframe thead tr:only-child th {\n",
       "        text-align: right;\n",
       "    }\n",
       "\n",
       "    .dataframe thead th {\n",
       "        text-align: left;\n",
       "    }\n",
       "\n",
       "    .dataframe tbody tr th {\n",
       "        vertical-align: top;\n",
       "    }\n",
       "</style>\n",
       "<table border=\"1\" class=\"dataframe\">\n",
       "  <thead>\n",
       "    <tr style=\"text-align: right;\">\n",
       "      <th></th>\n",
       "      <th>chid</th>\n",
       "      <th>views</th>\n",
       "      <th>subscriber</th>\n",
       "      <th>videoscount</th>\n",
       "      <th>date</th>\n",
       "    </tr>\n",
       "  </thead>\n",
       "  <tbody>\n",
       "    <tr>\n",
       "      <th>0</th>\n",
       "      <td>UC6ROKPXrnzfhNYST1w</td>\n",
       "      <td>3302429</td>\n",
       "      <td>2087</td>\n",
       "      <td>4</td>\n",
       "      <td>2016-10-01</td>\n",
       "    </tr>\n",
       "    <tr>\n",
       "      <th>1</th>\n",
       "      <td>UC6ROKPXrnzfhNYST1w</td>\n",
       "      <td>3304705</td>\n",
       "      <td>2087</td>\n",
       "      <td>4</td>\n",
       "      <td>2016-10-02</td>\n",
       "    </tr>\n",
       "    <tr>\n",
       "      <th>2</th>\n",
       "      <td>UC6ROKPXrnzfhNYST1w</td>\n",
       "      <td>3306526</td>\n",
       "      <td>2090</td>\n",
       "      <td>4</td>\n",
       "      <td>2016-10-03</td>\n",
       "    </tr>\n",
       "    <tr>\n",
       "      <th>3</th>\n",
       "      <td>UC6ROKPXrnzfhNYST1w</td>\n",
       "      <td>3309092</td>\n",
       "      <td>2090</td>\n",
       "      <td>4</td>\n",
       "      <td>2016-10-04</td>\n",
       "    </tr>\n",
       "    <tr>\n",
       "      <th>4</th>\n",
       "      <td>UC6ROKPXrnzfhNYST1w</td>\n",
       "      <td>3311343</td>\n",
       "      <td>2090</td>\n",
       "      <td>4</td>\n",
       "      <td>2016-10-05</td>\n",
       "    </tr>\n",
       "  </tbody>\n",
       "</table>\n",
       "</div>"
      ],
      "text/plain": [
       "                  chid    views  subscriber  videoscount        date\n",
       "0  UC6ROKPXrnzfhNYST1w  3302429        2087            4  2016-10-01\n",
       "1  UC6ROKPXrnzfhNYST1w  3304705        2087            4  2016-10-02\n",
       "2  UC6ROKPXrnzfhNYST1w  3306526        2090            4  2016-10-03\n",
       "3  UC6ROKPXrnzfhNYST1w  3309092        2090            4  2016-10-04\n",
       "4  UC6ROKPXrnzfhNYST1w  3311343        2090            4  2016-10-05"
      ]
     },
     "execution_count": 9,
     "metadata": {},
     "output_type": "execute_result"
    }
   ],
   "source": [
    "df.head()"
   ]
  },
  {
   "cell_type": "code",
   "execution_count": 10,
   "metadata": {
    "collapsed": true
   },
   "outputs": [],
   "source": [
    "new = df[df['chid']==df['chid'][0]]\n",
    "l = new['views'].astype(float)"
   ]
  },
  {
   "cell_type": "code",
   "execution_count": 11,
   "metadata": {},
   "outputs": [
    {
     "ename": "KeyError",
     "evalue": "0",
     "output_type": "error",
     "traceback": [
      "\u001b[1;31m---------------------------------------------------------------------------\u001b[0m",
      "\u001b[1;31mKeyError\u001b[0m                                  Traceback (most recent call last)",
      "\u001b[1;32m<ipython-input-11-29db4f7875f6>\u001b[0m in \u001b[0;36m<module>\u001b[1;34m()\u001b[0m\n\u001b[1;32m----> 1\u001b[1;33m \u001b[0marima_model\u001b[0m\u001b[1;33m(\u001b[0m\u001b[0ml\u001b[0m\u001b[1;33m)\u001b[0m\u001b[1;33m\u001b[0m\u001b[0m\n\u001b[0m",
      "\u001b[1;32m<ipython-input-8-7bc28cf9e853>\u001b[0m in \u001b[0;36marima_model\u001b[1;34m(ts)\u001b[0m\n\u001b[0;32m      9\u001b[0m         \u001b[0myhat\u001b[0m \u001b[1;33m=\u001b[0m \u001b[0moutput\u001b[0m\u001b[1;33m[\u001b[0m\u001b[1;36m0\u001b[0m\u001b[1;33m]\u001b[0m\u001b[1;33m\u001b[0m\u001b[0m\n\u001b[0;32m     10\u001b[0m         \u001b[0mpredictions\u001b[0m\u001b[1;33m.\u001b[0m\u001b[0mappend\u001b[0m\u001b[1;33m(\u001b[0m\u001b[0myhat\u001b[0m\u001b[1;33m)\u001b[0m\u001b[1;33m\u001b[0m\u001b[0m\n\u001b[1;32m---> 11\u001b[1;33m         \u001b[0mobs\u001b[0m \u001b[1;33m=\u001b[0m \u001b[0mtest\u001b[0m\u001b[1;33m[\u001b[0m\u001b[0mt\u001b[0m\u001b[1;33m]\u001b[0m\u001b[1;33m\u001b[0m\u001b[0m\n\u001b[0m\u001b[0;32m     12\u001b[0m         \u001b[0mhistory\u001b[0m\u001b[1;33m.\u001b[0m\u001b[0mappend\u001b[0m\u001b[1;33m(\u001b[0m\u001b[0mobs\u001b[0m\u001b[1;33m)\u001b[0m\u001b[1;33m\u001b[0m\u001b[0m\n\u001b[0;32m     13\u001b[0m     \u001b[0merror\u001b[0m \u001b[1;33m=\u001b[0m \u001b[0mr2_score\u001b[0m\u001b[1;33m(\u001b[0m\u001b[0mtest\u001b[0m\u001b[1;33m,\u001b[0m \u001b[0mpredictions\u001b[0m\u001b[1;33m)\u001b[0m\u001b[1;33m\u001b[0m\u001b[0m\n",
      "\u001b[1;32m~\\AppData\\Local\\conda\\conda\\envs\\python3\\lib\\site-packages\\pandas\\core\\series.py\u001b[0m in \u001b[0;36m__getitem__\u001b[1;34m(self, key)\u001b[0m\n\u001b[0;32m    599\u001b[0m         \u001b[0mkey\u001b[0m \u001b[1;33m=\u001b[0m \u001b[0mcom\u001b[0m\u001b[1;33m.\u001b[0m\u001b[0m_apply_if_callable\u001b[0m\u001b[1;33m(\u001b[0m\u001b[0mkey\u001b[0m\u001b[1;33m,\u001b[0m \u001b[0mself\u001b[0m\u001b[1;33m)\u001b[0m\u001b[1;33m\u001b[0m\u001b[0m\n\u001b[0;32m    600\u001b[0m         \u001b[1;32mtry\u001b[0m\u001b[1;33m:\u001b[0m\u001b[1;33m\u001b[0m\u001b[0m\n\u001b[1;32m--> 601\u001b[1;33m             \u001b[0mresult\u001b[0m \u001b[1;33m=\u001b[0m \u001b[0mself\u001b[0m\u001b[1;33m.\u001b[0m\u001b[0mindex\u001b[0m\u001b[1;33m.\u001b[0m\u001b[0mget_value\u001b[0m\u001b[1;33m(\u001b[0m\u001b[0mself\u001b[0m\u001b[1;33m,\u001b[0m \u001b[0mkey\u001b[0m\u001b[1;33m)\u001b[0m\u001b[1;33m\u001b[0m\u001b[0m\n\u001b[0m\u001b[0;32m    602\u001b[0m \u001b[1;33m\u001b[0m\u001b[0m\n\u001b[0;32m    603\u001b[0m             \u001b[1;32mif\u001b[0m \u001b[1;32mnot\u001b[0m \u001b[0mis_scalar\u001b[0m\u001b[1;33m(\u001b[0m\u001b[0mresult\u001b[0m\u001b[1;33m)\u001b[0m\u001b[1;33m:\u001b[0m\u001b[1;33m\u001b[0m\u001b[0m\n",
      "\u001b[1;32m~\\AppData\\Local\\conda\\conda\\envs\\python3\\lib\\site-packages\\pandas\\core\\indexes\\base.py\u001b[0m in \u001b[0;36mget_value\u001b[1;34m(self, series, key)\u001b[0m\n\u001b[0;32m   2475\u001b[0m         \u001b[1;32mtry\u001b[0m\u001b[1;33m:\u001b[0m\u001b[1;33m\u001b[0m\u001b[0m\n\u001b[0;32m   2476\u001b[0m             return self._engine.get_value(s, k,\n\u001b[1;32m-> 2477\u001b[1;33m                                           tz=getattr(series.dtype, 'tz', None))\n\u001b[0m\u001b[0;32m   2478\u001b[0m         \u001b[1;32mexcept\u001b[0m \u001b[0mKeyError\u001b[0m \u001b[1;32mas\u001b[0m \u001b[0me1\u001b[0m\u001b[1;33m:\u001b[0m\u001b[1;33m\u001b[0m\u001b[0m\n\u001b[0;32m   2479\u001b[0m             \u001b[1;32mif\u001b[0m \u001b[0mlen\u001b[0m\u001b[1;33m(\u001b[0m\u001b[0mself\u001b[0m\u001b[1;33m)\u001b[0m \u001b[1;33m>\u001b[0m \u001b[1;36m0\u001b[0m \u001b[1;32mand\u001b[0m \u001b[0mself\u001b[0m\u001b[1;33m.\u001b[0m\u001b[0minferred_type\u001b[0m \u001b[1;32min\u001b[0m \u001b[1;33m[\u001b[0m\u001b[1;34m'integer'\u001b[0m\u001b[1;33m,\u001b[0m \u001b[1;34m'boolean'\u001b[0m\u001b[1;33m]\u001b[0m\u001b[1;33m:\u001b[0m\u001b[1;33m\u001b[0m\u001b[0m\n",
      "\u001b[1;32mpandas\\_libs\\index.pyx\u001b[0m in \u001b[0;36mpandas._libs.index.IndexEngine.get_value (pandas\\_libs\\index.c:4404)\u001b[1;34m()\u001b[0m\n",
      "\u001b[1;32mpandas\\_libs\\index.pyx\u001b[0m in \u001b[0;36mpandas._libs.index.IndexEngine.get_value (pandas\\_libs\\index.c:4087)\u001b[1;34m()\u001b[0m\n",
      "\u001b[1;32mpandas\\_libs\\index.pyx\u001b[0m in \u001b[0;36mpandas._libs.index.IndexEngine.get_loc (pandas\\_libs\\index.c:5126)\u001b[1;34m()\u001b[0m\n",
      "\u001b[1;32mpandas\\_libs\\hashtable_class_helper.pxi\u001b[0m in \u001b[0;36mpandas._libs.hashtable.Int64HashTable.get_item (pandas\\_libs\\hashtable.c:14031)\u001b[1;34m()\u001b[0m\n",
      "\u001b[1;32mpandas\\_libs\\hashtable_class_helper.pxi\u001b[0m in \u001b[0;36mpandas._libs.hashtable.Int64HashTable.get_item (pandas\\_libs\\hashtable.c:13975)\u001b[1;34m()\u001b[0m\n",
      "\u001b[1;31mKeyError\u001b[0m: 0"
     ]
    }
   ],
   "source": [
    "arima_model(l)"
   ]
  },
  {
   "cell_type": "code",
   "execution_count": null,
   "metadata": {
    "collapsed": true
   },
   "outputs": [],
   "source": []
  }
 ],
 "metadata": {
  "kernelspec": {
   "display_name": "Python 3",
   "language": "python",
   "name": "python3"
  },
  "language_info": {
   "codemirror_mode": {
    "name": "ipython",
    "version": 3
   },
   "file_extension": ".py",
   "mimetype": "text/x-python",
   "name": "python",
   "nbconvert_exporter": "python",
   "pygments_lexer": "ipython3",
   "version": "3.5.4"
  }
 },
 "nbformat": 4,
 "nbformat_minor": 2
}
